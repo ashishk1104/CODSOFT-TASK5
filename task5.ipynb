{
 "cells": [
  {
   "cell_type": "code",
   "execution_count": 1,
   "id": "919299db-9339-4e92-86d6-32f4ec47c767",
   "metadata": {},
   "outputs": [
    {
     "name": "stdout",
     "output_type": "stream",
     "text": [
      "Contact Manager\n",
      "\n",
      "Options:\n",
      "1. Add Contact\n",
      "2. View Contacts\n",
      "3. Search Contact\n",
      "4. Update Contact\n",
      "5. Delete Contact\n",
      "6. Exit\n"
     ]
    },
    {
     "name": "stdin",
     "output_type": "stream",
     "text": [
      "Choose an option:  1\n",
      "Enter name:  ASHISH\n",
      "Enter phone number:  449834967\n",
      "Enter email:  ashish110425@gmail.com\n",
      "Enter address:  delhi\n"
     ]
    },
    {
     "name": "stdout",
     "output_type": "stream",
     "text": [
      "\n",
      "Options:\n",
      "1. Add Contact\n",
      "2. View Contacts\n",
      "3. Search Contact\n",
      "4. Update Contact\n",
      "5. Delete Contact\n",
      "6. Exit\n"
     ]
    },
    {
     "name": "stdin",
     "output_type": "stream",
     "text": [
      "Choose an option:  6\n"
     ]
    }
   ],
   "source": [
    "class Contact:\n",
    "    def __init__(self, name, phone, email, address):\n",
    "        self.name = name\n",
    "        self.phone = phone\n",
    "        self.email = email\n",
    "        self.address = address\n",
    "\n",
    "    def __str__(self):\n",
    "        return f\"Name: {self.name}\\nPhone: {self.phone}\\nEmail: {self.email}\\nAddress: {self.address}\\n\"\n",
    "\n",
    "contacts = []\n",
    "\n",
    "def add_contact(name, phone, email, address):\n",
    "    contact = Contact(name, phone, email, address)\n",
    "    contacts.append(contact)\n",
    "\n",
    "def view_contacts():\n",
    "    if not contacts:\n",
    "        print(\"No contacts available.\")\n",
    "        return\n",
    "    for i, contact in enumerate(contacts, 1):\n",
    "        print(f\"{i}. {contact.name} - {contact.phone}\")\n",
    "\n",
    "def search_contact(query):\n",
    "    results = [contact for contact in contacts if query.lower() in contact.name.lower() or query in contact.phone]\n",
    "    if not results:\n",
    "        print(\"No contacts found.\")\n",
    "        return\n",
    "    for contact in results:\n",
    "        print(contact)\n",
    "\n",
    "def update_contact(index, name=None, phone=None, email=None, address=None):\n",
    "    if 0 <= index < len(contacts):\n",
    "        contact = contacts[index]\n",
    "        if name:\n",
    "            contact.name = name\n",
    "        if phone:\n",
    "            contact.phone = phone\n",
    "        if email:\n",
    "            contact.email = email\n",
    "        if address:\n",
    "            contact.address = address\n",
    "    else:\n",
    "        print(\"Invalid contact index.\")\n",
    "\n",
    "def delete_contact(index):\n",
    "    if 0 <= index < len(contacts):\n",
    "        contacts.pop(index)\n",
    "    else:\n",
    "        print(\"Invalid contact index.\")\n",
    "\n",
    "def main():\n",
    "    print(\"Contact Manager\")\n",
    "    while True:\n",
    "        print(\"\\nOptions:\")\n",
    "        print(\"1. Add Contact\")\n",
    "        print(\"2. View Contacts\")\n",
    "        print(\"3. Search Contact\")\n",
    "        print(\"4. Update Contact\")\n",
    "        print(\"5. Delete Contact\")\n",
    "        print(\"6. Exit\")\n",
    "        choice = input(\"Choose an option: \")\n",
    "\n",
    "        if choice == \"1\":\n",
    "            name = input(\"Enter name: \")\n",
    "            phone = input(\"Enter phone number: \")\n",
    "            email = input(\"Enter email: \")\n",
    "            address = input(\"Enter address: \")\n",
    "            add_contact(name, phone, email, address)\n",
    "        elif choice == \"2\":\n",
    "            view_contacts()\n",
    "        elif choice == \"3\":\n",
    "            query = input(\"Enter name or phone number to search: \")\n",
    "            search_contact(query)\n",
    "        elif choice == \"4\":\n",
    "            index = int(input(\"Enter contact index to update: \")) - 1\n",
    "            name = input(\"Enter new name (or press enter to skip): \")\n",
    "            phone = input(\"Enter new phone number (or press enter to skip): \")\n",
    "            email = input(\"Enter new email (or press enter to skip): \")\n",
    "            address = input(\"Enter new address (or press enter to skip): \")\n",
    "            update_contact(index, name or None, phone or None, email or None, address or None)\n",
    "        elif choice == \"5\":\n",
    "            index = int(input(\"Enter contact index to delete: \")) - 1\n",
    "            delete_contact(index)\n",
    "        elif choice == \"6\":\n",
    "            break\n",
    "        else:\n",
    "            print(\"Invalid choice. Please try again.\")\n",
    "\n",
    "if __name__ == \"__main__\":\n",
    "    main()\n"
   ]
  }
 ],
 "metadata": {
  "kernelspec": {
   "display_name": "Python 3 (ipykernel)",
   "language": "python",
   "name": "python3"
  },
  "language_info": {
   "codemirror_mode": {
    "name": "ipython",
    "version": 3
   },
   "file_extension": ".py",
   "mimetype": "text/x-python",
   "name": "python",
   "nbconvert_exporter": "python",
   "pygments_lexer": "ipython3",
   "version": "3.11.4"
  }
 },
 "nbformat": 4,
 "nbformat_minor": 5
}
